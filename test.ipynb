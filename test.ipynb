{
 "metadata": {
  "language_info": {
   "codemirror_mode": {
    "name": "ipython",
    "version": 3
   },
   "file_extension": ".py",
   "mimetype": "text/x-python",
   "name": "python",
   "nbconvert_exporter": "python",
   "pygments_lexer": "ipython3",
   "version": "3.8.5"
  },
  "orig_nbformat": 4,
  "kernelspec": {
   "name": "python3",
   "display_name": "Python 3.8.5 64-bit"
  },
  "interpreter": {
   "hash": "3bd719bd75120a7bfac96bb1c6fedb3e489ee11514be65e34b5757ee8adc74c8"
  }
 },
 "nbformat": 4,
 "nbformat_minor": 2,
 "cells": [
  {
   "cell_type": "code",
   "execution_count": 1,
   "metadata": {},
   "outputs": [
    {
     "output_type": "stream",
     "name": "stderr",
     "text": [
      "<ipython-input-1-d1013deeed2a>:10: DeprecationWarning: use options instead of chrome_options\n  chrome = webdriver.Chrome('./chromedriver', chrome_options=options)\n"
     ]
    }
   ],
   "source": [
    "import requests\n",
    "from selenium import webdriver\n",
    "from selenium.webdriver.chrome.options import Options\n",
    "from bs4 import BeautifulSoup\n",
    "import json\n",
    "options = Options()\n",
    "ua = \"Mozilla/5.0 (Windows NT 10.0; WOW64; rv:53.0) Gecko/20100101 Firefox/53.0\"\n",
    "options.add_argument(\"--disable-notifications\")  #不啟用通知\n",
    "options.add_argument(\"user-agent={}\".format(ua))   #代理伺服器\n",
    "chrome = webdriver.Chrome('./chromedriver', chrome_options=options)\n",
    "chrome.get(\"https://www.skyscanner.com.tw/transport/flights/tpe/krk/220221/220228/?adults=1&adultsv2=1&cabinclass=economy&children=0&childrenv2=&destinationentityid=27543787&inboundaltsenabled=false&infants=0&originentityid=27547236&outboundaltsenabled=false&preferdirects=false&preferflexible=false&ref=home&rtn=1\")\n",
    "html = chrome.page_source\n",
    "soup = BeautifulSoup(html,\"lxml\")\n"
   ]
  },
  {
   "cell_type": "code",
   "execution_count": 11,
   "metadata": {
    "tags": []
   },
   "outputs": [
    {
     "output_type": "stream",
     "name": "stdout",
     "text": [
      "result = \n0\n"
     ]
    }
   ],
   "source": [
    "count = 0\n",
    "temp = []\n",
    "# print(soup.prettify())\n",
    "print(\"result = \")\n",
    "result = soup.find_all('a',limit = 3)\n",
    "\n",
    "result = soup.find_all(\"FlightsDayView_results__Z05FF\")\n",
    "# result = soup.select('.FlightsTicket_link__1gCy7')\n",
    "print(len(result))\n",
    "# for entry in soup.find_all(class_=\"FlightsTicket_container__3FqKJ\"):\n",
    "#     if count == 0 :\n",
    "#         print(entry.prettify())\n",
    "#     count += 1\n",
    "# print(count)\n",
    "# with open('result.json','w') as writefile:\n",
    "#     json.dump(writefile,temp)\n",
    "# for entry in soup.find_all('div',class_='BpkTicket_bpk-ticket__2zvVf BpkTicket_bpk-ticket--with-notches__1bqE0'):\n",
    "#     departure_count = len(entry.find_all('div',class_='BpkTicket_bpk-ticket__paper__CB7Z5 BpkTicket_bpk-ticket__main__2C0Rm BpkTicket_bpk-ticket__main--padded__1-hGc BpkTicket_bpk-ticket__main--horizontal__3Wdiw BpkTicket_bpk-ticket__paper--with-notches__bPNdO'))\n",
    "#     print(departure_count)"
   ]
  }
 ]
}